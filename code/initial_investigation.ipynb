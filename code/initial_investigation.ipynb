{
 "cells": [
  {
   "cell_type": "code",
   "execution_count": 1,
   "metadata": {},
   "outputs": [
    {
     "name": "stderr",
     "output_type": "stream",
     "text": [
      "In /home/katie/.local/lib/python3.6/site-packages/matplotlib/mpl-data/stylelib/_classic_test.mplstyle: \n",
      "The savefig.frameon rcparam was deprecated in Matplotlib 3.1 and will be removed in 3.3.\n",
      "In /home/katie/.local/lib/python3.6/site-packages/matplotlib/mpl-data/stylelib/_classic_test.mplstyle: \n",
      "The verbose.level rcparam was deprecated in Matplotlib 3.1 and will be removed in 3.3.\n",
      "In /home/katie/.local/lib/python3.6/site-packages/matplotlib/mpl-data/stylelib/_classic_test.mplstyle: \n",
      "The verbose.fileo rcparam was deprecated in Matplotlib 3.1 and will be removed in 3.3.\n"
     ]
    }
   ],
   "source": [
    "import pandas as pd \n",
    "import numpy as np\n",
    "import requests \n",
    "import constants\n",
    "from pathlib import Path\n",
    "import matplotlib.pyplot as plt"
   ]
  },
  {
   "cell_type": "code",
   "execution_count": 2,
   "metadata": {},
   "outputs": [
    {
     "data": {
      "text/html": [
       "<div>\n",
       "<style scoped>\n",
       "    .dataframe tbody tr th:only-of-type {\n",
       "        vertical-align: middle;\n",
       "    }\n",
       "\n",
       "    .dataframe tbody tr th {\n",
       "        vertical-align: top;\n",
       "    }\n",
       "\n",
       "    .dataframe thead th {\n",
       "        text-align: right;\n",
       "    }\n",
       "</style>\n",
       "<table border=\"1\" class=\"dataframe\">\n",
       "  <thead>\n",
       "    <tr style=\"text-align: right;\">\n",
       "      <th></th>\n",
       "      <th>INCIDENT_NUMBER</th>\n",
       "      <th>INCIDENT_DATE</th>\n",
       "      <th>INCIDENT_TIME</th>\n",
       "      <th>DAY_OF_WEEK</th>\n",
       "      <th>INITIAL_CONTACT</th>\n",
       "      <th>CONTACT_BASIS</th>\n",
       "      <th>STREET_ADDRESS</th>\n",
       "      <th>CITY_STATE</th>\n",
       "      <th>LAST_FIRST_NAME</th>\n",
       "      <th>ROLE</th>\n",
       "      <th>...</th>\n",
       "      <th>GENDER</th>\n",
       "      <th>AGE</th>\n",
       "      <th>RACE</th>\n",
       "      <th>ETHNICITY</th>\n",
       "      <th>ARMED_WITH</th>\n",
       "      <th>DISCHARGED_FIREARM</th>\n",
       "      <th>CASUALTY</th>\n",
       "      <th>DECISION_LETTER_URL</th>\n",
       "      <th>X_COORDINATE</th>\n",
       "      <th>Y_COORDINATE</th>\n",
       "    </tr>\n",
       "  </thead>\n",
       "  <tbody>\n",
       "    <tr>\n",
       "      <th>0</th>\n",
       "      <td>20165000685.0</td>\n",
       "      <td>2016-02-22 00:00:00</td>\n",
       "      <td>1330.0</td>\n",
       "      <td>Monday</td>\n",
       "      <td>Citizen-Initiated</td>\n",
       "      <td>Burglary - In Progess</td>\n",
       "      <td>3500 blk N Lowell Blvd</td>\n",
       "      <td>Denver, CO</td>\n",
       "      <td>Burke, Kevin</td>\n",
       "      <td>Officer</td>\n",
       "      <td>...</td>\n",
       "      <td>M</td>\n",
       "      <td>41.0</td>\n",
       "      <td>W</td>\n",
       "      <td>NH</td>\n",
       "      <td>Firearm</td>\n",
       "      <td>Yes</td>\n",
       "      <td>Not Injured</td>\n",
       "      <td>https://www.denverda.org/wp-content/uploads/de...</td>\n",
       "      <td>3130847.0</td>\n",
       "      <td>1704269.0</td>\n",
       "    </tr>\n",
       "    <tr>\n",
       "      <th>1</th>\n",
       "      <td>2016568888.0</td>\n",
       "      <td>2016-09-05 00:00:00</td>\n",
       "      <td>1207.0</td>\n",
       "      <td>Monday</td>\n",
       "      <td>Officer-Initiated</td>\n",
       "      <td>Warrant</td>\n",
       "      <td>300 blk N. Osage St.</td>\n",
       "      <td>Denver, CO</td>\n",
       "      <td>Robledo, John</td>\n",
       "      <td>Officer</td>\n",
       "      <td>...</td>\n",
       "      <td>M</td>\n",
       "      <td>39.0</td>\n",
       "      <td>W</td>\n",
       "      <td>H</td>\n",
       "      <td>Firearm</td>\n",
       "      <td>Yes</td>\n",
       "      <td>Not Injured</td>\n",
       "      <td>None available</td>\n",
       "      <td>3139108.0</td>\n",
       "      <td>1688147.0</td>\n",
       "    </tr>\n",
       "    <tr>\n",
       "      <th>2</th>\n",
       "      <td>2019125830.0</td>\n",
       "      <td>2019-02-25 00:00:00</td>\n",
       "      <td>211.0</td>\n",
       "      <td>Monday</td>\n",
       "      <td>Citizen-Initiated</td>\n",
       "      <td>Disturbance</td>\n",
       "      <td>1200 N Galapago St</td>\n",
       "      <td>Denver, CO</td>\n",
       "      <td>Litton, David</td>\n",
       "      <td>Subject</td>\n",
       "      <td>...</td>\n",
       "      <td>M</td>\n",
       "      <td>40.0</td>\n",
       "      <td>W</td>\n",
       "      <td>NH</td>\n",
       "      <td>Firearm</td>\n",
       "      <td>No</td>\n",
       "      <td>Deceased</td>\n",
       "      <td>https://www.denverda.org/wp-content/uploads/20...</td>\n",
       "      <td>3141672.0</td>\n",
       "      <td>1693222.0</td>\n",
       "    </tr>\n",
       "    <tr>\n",
       "      <th>3</th>\n",
       "      <td>201516702.0</td>\n",
       "      <td>2015-01-09 00:00:00</td>\n",
       "      <td>1940.0</td>\n",
       "      <td>Friday</td>\n",
       "      <td>Officer-Initiated</td>\n",
       "      <td>Vehicle Stop</td>\n",
       "      <td>5081 N Crown Blvd</td>\n",
       "      <td>Denver, CO</td>\n",
       "      <td>Kindell, Sharod</td>\n",
       "      <td>Subject</td>\n",
       "      <td>...</td>\n",
       "      <td>M</td>\n",
       "      <td>24.0</td>\n",
       "      <td>B</td>\n",
       "      <td>NH</td>\n",
       "      <td>Motor Vehicle</td>\n",
       "      <td>NaN</td>\n",
       "      <td>Injured</td>\n",
       "      <td>http://www.denverda.org/News_Release/Decision_...</td>\n",
       "      <td>3188620.0</td>\n",
       "      <td>1712709.0</td>\n",
       "    </tr>\n",
       "    <tr>\n",
       "      <th>4</th>\n",
       "      <td>201960655.0</td>\n",
       "      <td>2019-01-27 00:00:00</td>\n",
       "      <td>1141.0</td>\n",
       "      <td>Sunday</td>\n",
       "      <td>Citizen-Initiated</td>\n",
       "      <td>Shots Fired</td>\n",
       "      <td>622 N Inca St</td>\n",
       "      <td>Denver, CO</td>\n",
       "      <td>Lee, Eric</td>\n",
       "      <td>Officer</td>\n",
       "      <td>...</td>\n",
       "      <td>M</td>\n",
       "      <td>41.0</td>\n",
       "      <td>W</td>\n",
       "      <td>NH</td>\n",
       "      <td>Firearm</td>\n",
       "      <td>Yes</td>\n",
       "      <td>Not Injured</td>\n",
       "      <td>Investigation Pending</td>\n",
       "      <td>3141423.0</td>\n",
       "      <td>1689770.0</td>\n",
       "    </tr>\n",
       "  </tbody>\n",
       "</table>\n",
       "<p>5 rows × 24 columns</p>\n",
       "</div>"
      ],
      "text/plain": [
       "  INCIDENT_NUMBER        INCIDENT_DATE  INCIDENT_TIME DAY_OF_WEEK  \\\n",
       "0   20165000685.0  2016-02-22 00:00:00         1330.0      Monday   \n",
       "1    2016568888.0  2016-09-05 00:00:00         1207.0      Monday   \n",
       "2    2019125830.0  2019-02-25 00:00:00          211.0      Monday   \n",
       "3     201516702.0  2015-01-09 00:00:00         1940.0      Friday   \n",
       "4     201960655.0  2019-01-27 00:00:00         1141.0      Sunday   \n",
       "\n",
       "     INITIAL_CONTACT          CONTACT_BASIS          STREET_ADDRESS  \\\n",
       "0  Citizen-Initiated  Burglary - In Progess  3500 blk N Lowell Blvd   \n",
       "1  Officer-Initiated                Warrant    300 blk N. Osage St.   \n",
       "2  Citizen-Initiated            Disturbance      1200 N Galapago St   \n",
       "3  Officer-Initiated           Vehicle Stop       5081 N Crown Blvd   \n",
       "4  Citizen-Initiated            Shots Fired           622 N Inca St   \n",
       "\n",
       "   CITY_STATE  LAST_FIRST_NAME     ROLE     ...      GENDER   AGE RACE  \\\n",
       "0  Denver, CO     Burke, Kevin  Officer     ...           M  41.0    W   \n",
       "1  Denver, CO    Robledo, John  Officer     ...           M  39.0    W   \n",
       "2  Denver, CO    Litton, David  Subject     ...           M  40.0    W   \n",
       "3  Denver, CO  Kindell, Sharod  Subject     ...           M  24.0    B   \n",
       "4  Denver, CO        Lee, Eric  Officer     ...           M  41.0    W   \n",
       "\n",
       "  ETHNICITY     ARMED_WITH  DISCHARGED_FIREARM     CASUALTY  \\\n",
       "0        NH        Firearm                 Yes  Not Injured   \n",
       "1         H        Firearm                 Yes  Not Injured   \n",
       "2        NH        Firearm                  No     Deceased   \n",
       "3        NH  Motor Vehicle                 NaN      Injured   \n",
       "4        NH        Firearm                 Yes  Not Injured   \n",
       "\n",
       "                                 DECISION_LETTER_URL X_COORDINATE Y_COORDINATE  \n",
       "0  https://www.denverda.org/wp-content/uploads/de...    3130847.0    1704269.0  \n",
       "1                                     None available    3139108.0    1688147.0  \n",
       "2  https://www.denverda.org/wp-content/uploads/20...    3141672.0    1693222.0  \n",
       "3  http://www.denverda.org/News_Release/Decision_...    3188620.0    1712709.0  \n",
       "4                              Investigation Pending    3141423.0    1689770.0  \n",
       "\n",
       "[5 rows x 24 columns]"
      ]
     },
     "execution_count": 2,
     "metadata": {},
     "output_type": "execute_result"
    }
   ],
   "source": [
    "data_path = constants.DENVER_POLICE_PATH\n",
    "df = pd.read_csv(str(data_path))\n",
    "\n",
    "df.head()"
   ]
  },
  {
   "cell_type": "code",
   "execution_count": 3,
   "metadata": {},
   "outputs": [
    {
     "data": {
      "text/plain": [
       "Index(['INCIDENT_NUMBER', 'INCIDENT_DATE', 'INCIDENT_TIME', 'DAY_OF_WEEK',\n",
       "       'INITIAL_CONTACT', 'CONTACT_BASIS', 'STREET_ADDRESS', 'CITY_STATE',\n",
       "       'LAST_FIRST_NAME', 'ROLE', 'OFFICER_RANK', 'BADGE_NUMBER',\n",
       "       'DUTY_STATUS', 'UNIFORM_PLAINCLOTHES', 'GENDER', 'AGE', 'RACE',\n",
       "       'ETHNICITY', 'ARMED_WITH', 'DISCHARGED_FIREARM', 'CASUALTY',\n",
       "       'DECISION_LETTER_URL', 'X_COORDINATE', 'Y_COORDINATE'],\n",
       "      dtype='object')"
      ]
     },
     "execution_count": 3,
     "metadata": {},
     "output_type": "execute_result"
    }
   ],
   "source": [
    "df.columns\n"
   ]
  },
  {
   "cell_type": "code",
   "execution_count": 4,
   "metadata": {},
   "outputs": [
    {
     "data": {
      "text/plain": [
       "('2020-01-01 00:00:00', '2015-01-09 00:00:00')"
      ]
     },
     "execution_count": 4,
     "metadata": {},
     "output_type": "execute_result"
    }
   ],
   "source": [
    "# from 2015 to 2020\n",
    "df.INCIDENT_DATE.max(), df.INCIDENT_DATE.min()"
   ]
  },
  {
   "cell_type": "code",
   "execution_count": 5,
   "metadata": {},
   "outputs": [
    {
     "data": {
      "text/plain": [
       "45"
      ]
     },
     "execution_count": 5,
     "metadata": {},
     "output_type": "execute_result"
    }
   ],
   "source": [
    "# only 45 officer involved shootings \n",
    "df.INCIDENT_NUMBER.nunique()"
   ]
  },
  {
   "cell_type": "code",
   "execution_count": 6,
   "metadata": {},
   "outputs": [
    {
     "name": "stderr",
     "output_type": "stream",
     "text": [
      "/home/katie/.local/lib/python3.6/site-packages/ipykernel_launcher.py:14: SettingWithCopyWarning: \n",
      "A value is trying to be set on a copy of a slice from a DataFrame\n",
      "\n",
      "See the caveats in the documentation: http://pandas.pydata.org/pandas-docs/stable/indexing.html#indexing-view-versus-copy\n",
      "  \n",
      "/home/katie/.local/lib/python3.6/site-packages/ipykernel_launcher.py:16: SettingWithCopyWarning: \n",
      "A value is trying to be set on a copy of a slice from a DataFrame.\n",
      "Try using .loc[row_indexer,col_indexer] = value instead\n",
      "\n",
      "See the caveats in the documentation: http://pandas.pydata.org/pandas-docs/stable/indexing.html#indexing-view-versus-copy\n",
      "  app.launch_new_instance()\n"
     ]
    }
   ],
   "source": [
    "# 4 officer involved shootings w/o a decision letter\n",
    "num_none_available = df.INCIDENT_NUMBER.loc[df.DECISION_LETTER_URL=='None available'].nunique()\n",
    "\n",
    "# 6 officier involved shootings where investigation is still pending\n",
    "num_investigation_pending = df.INCIDENT_NUMBER.loc[df.DECISION_LETTER_URL=='Investigation Pending'].nunique()\n",
    "\n",
    "# that leaves 35 incidents\n",
    "\n",
    "# drop them from the following dataset\n",
    "df_subset = df.loc[(df.DECISION_LETTER_URL!='None available') & (df.DECISION_LETTER_URL!='Investigation Pending')]\n",
    "\n",
    "# make a df for status code of decision letters\n",
    "df_status_code = df_subset[['INCIDENT_NUMBER', 'DECISION_LETTER_URL']]\n",
    "df_status_code.drop_duplicates(inplace=True)\n",
    "\n",
    "df_status_code['STATUS_CODE'] = df_status_code.DECISION_LETTER_URL.apply(lambda url: requests.get(url).status_code)\n",
    "\n",
    "# drop 3 rows where the page cannot be found '404'\n",
    "df_status_code = df_status_code.loc[df_status_code.STATUS_CODE != 404]\n",
    "\n",
    "# down to 34 incidents w decision letters \n",
    "num_incident = df_status_code.INCIDENT_NUMBER.nunique()\n"
   ]
  },
  {
   "cell_type": "code",
   "execution_count": 7,
   "metadata": {},
   "outputs": [],
   "source": [
    "# # download the available decision letters\n",
    "# decision_letters_path = constants.DECISION_LETTERS_PATH\n",
    "\n",
    "# for index, row in df_status_code.iterrows():\n",
    "#     url = row.DECISION_LETTER_URL\n",
    "#     incident_num = row.INCIDENT_NUMBER\n",
    "#     r = requests.get(url)\n",
    "#     pdf_path = Path.joinpath(decision_letters_path, str(incident_num)+\".pdf\")\n",
    "\n",
    "#     with open(pdf_path,'wb') as f: \n",
    "#         f.write(r.content) "
   ]
  },
  {
   "cell_type": "code",
   "execution_count": 8,
   "metadata": {},
   "outputs": [
    {
     "data": {
      "text/plain": [
       "INCIDENT_NUMBER\n",
       "2015153192.0                                             [Warrant]\n",
       "201516702.0                                         [Vehicle Stop]\n",
       "2015288243.0                           [Weapon / Concealed Weapon]\n",
       "2015482538.0                                        [Vehicle Stop]\n",
       "201549266.0                                   [Suspicious Vehicle]\n",
       "20155002522.0                          [Weapon / Concealed Weapon]\n",
       "20155004253.0                          [Weapon / Concealed Weapon]\n",
       "2015701574.0                                             [Warrant]\n",
       "2015713662.0                                        [Vehicle Stop]\n",
       "2015726322.0                              [Burglary - In Progress]\n",
       "201621883.0                                        [Vehicle Check]\n",
       "2016226732.0                                             [Warrant]\n",
       "2016398914.0                     [Domestic Violence - In Progress]\n",
       "2016435311.0                                            [Shooting]\n",
       "2016484812.0                                  [Suspicious Vehicle]\n",
       "20165000685.0                              [Burglary - In Progess]\n",
       "20165002313.0                          [Weapon / Concealed Weapon]\n",
       "20165003273.0                                       [Vehicle Stop]\n",
       "2016546836.0                                             [Warrant]\n",
       "2016556614.0                                             [Warrant]\n",
       "2016568888.0                                             [Warrant]\n",
       "2016717156.0                            [BOLO (Be on the lookout)]\n",
       "20175000874.0                                       [Shot Spotter]\n",
       "20175002316.0                          [Suicidal Person / Suicide]\n",
       "20175004070.0              [Robbery - In Progress / Just Occurred]\n",
       "20175005382.0                                       [Vehicle Stop]\n",
       "2017755175.0               [Robbery - In Progress / Just Occurred]\n",
       "2018185603.0                                        [Surveillance]\n",
       "2018276764.0                                [Bank Robbery Suspect]\n",
       "2018397790.0               [Robbery - In Progress / Just Occurred]\n",
       "20185000500.0                                     [Street Robbery]\n",
       "20185000803.0                                 [Family Disturbance]\n",
       "2018737022.0                                            [Shooting]\n",
       "201889020.0                                 [Burglary-In Progress]\n",
       "2019125830.0                                         [Disturbance]\n",
       "2019222960.0                               [Robbery - Car Jacking]\n",
       "2019409681.0                                      [Man with a Gun]\n",
       "2019482577.0                      [Burglary/Suspicious Occurrence]\n",
       "2019518224.0                                   [Shots Heard/Fired]\n",
       "2019556502.0           [Harassment in Progress Involving a Weapon]\n",
       "201960655.0                                          [Shots Fired]\n",
       "2019674091.0                                      [Street Robbery]\n",
       "201997442.0                      [Domestic Violence - In Progress]\n",
       "2020182.0                              [Weapon / Concealed Weapon]\n",
       "None             [Weapon / Concealed Weapon, Business Robbery, ...\n",
       "Name: CONTACT_BASIS, dtype: object"
      ]
     },
     "execution_count": 8,
     "metadata": {},
     "output_type": "execute_result"
    }
   ],
   "source": [
    "grouped = df.CONTACT_BASIS.groupby(df.INCIDENT_NUMBER)\n",
    "grouped.unique()"
   ]
  },
  {
   "cell_type": "code",
   "execution_count": null,
   "metadata": {},
   "outputs": [],
   "source": []
  },
  {
   "cell_type": "code",
   "execution_count": null,
   "metadata": {},
   "outputs": [],
   "source": []
  }
 ],
 "metadata": {
  "kernelspec": {
   "display_name": "Python 3",
   "language": "python",
   "name": "python3"
  },
  "language_info": {
   "codemirror_mode": {
    "name": "ipython",
    "version": 3
   },
   "file_extension": ".py",
   "mimetype": "text/x-python",
   "name": "python",
   "nbconvert_exporter": "python",
   "pygments_lexer": "ipython3",
   "version": "3.6.9"
  }
 },
 "nbformat": 4,
 "nbformat_minor": 2
}
